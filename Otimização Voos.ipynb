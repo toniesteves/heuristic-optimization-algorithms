{
 "cells": [
  {
   "cell_type": "code",
   "execution_count": 1,
   "metadata": {},
   "outputs": [],
   "source": [
    "import time\n",
    "import random\n",
    "import math"
   ]
  },
  {
   "cell_type": "markdown",
   "metadata": {},
   "source": [
    "### Functions"
   ]
  },
  {
   "cell_type": "code",
   "execution_count": 2,
   "metadata": {},
   "outputs": [],
   "source": [
    "# Lembrando que os indices começam com 0\n",
    "# [1,4, 3,2, 7,3, 6,3, 2,4, 5,3]\n",
    "def imprimir_agenda(pessoas, agenda):\n",
    "\n",
    "    voos = get_data()\n",
    "    \n",
    "    idx_voo = -1\n",
    "\n",
    "    for i in range(len(agenda)//2):\n",
    "        nome   = pessoas[i][0]\n",
    "        origem = pessoas[i][1]\n",
    "\n",
    "        idx_voo += 1\n",
    "\n",
    "        ida = voos[(origem, destino)][agenda[idx_voo]]\n",
    "\n",
    "        idx_voo +=1\n",
    "\n",
    "        volta = voos[(destino, origem)][agenda[idx_voo]]\n",
    "\n",
    "        print(f'{nome : <8}  : {origem}/{destino} - {ida[0]:<7} {ida[1]:<7} R$ {ida[2]:<5} | {destino:>5}/{origem} - {volta[0]: <7} {volta[1]:<7} R$ {volta[2]}')\n",
    "\n",
    "\n",
    "\n",
    "def get_minutes(hora):\n",
    "    _struct_time = time.strptime(hora, '%H:%M')\n",
    "    minutos = _struct_time[3] * 60 + _struct_time[4]\n",
    "\n",
    "    return minutos\n",
    "\n",
    "\n",
    "def get_data():\n",
    "\n",
    "    voos = {}\n",
    "\n",
    "    for linha in open('voos_hm.txt'):\n",
    "    # print(linha)\n",
    "        _origem, _destino, _saida, _chegada, _preco = linha.split(',')\n",
    "        voos.setdefault((_origem, _destino), [])\n",
    "        voos[(_origem, _destino)].append((_saida, _chegada, int(_preco)))\n",
    "\n",
    "    return voos"
   ]
  },
  {
   "cell_type": "code",
   "execution_count": 3,
   "metadata": {},
   "outputs": [],
   "source": [
    "voos = get_data()"
   ]
  },
  {
   "cell_type": "code",
   "execution_count": 4,
   "metadata": {},
   "outputs": [
    {
     "data": {
      "text/plain": [
       "[('6:19', '8:13', 239),\n",
       " ('8:04', '10:59', 136),\n",
       " ('9:31', '11:43', 210),\n",
       " ('11:07', '13:24', 171),\n",
       " ('12:31', '14:02', 234),\n",
       " ('14:05', '15:47', 226),\n",
       " ('15:07', '17:21', 129),\n",
       " ('16:35', '18:56', 144),\n",
       " ('18:25', '20:34', 205),\n",
       " ('20:05', '21:44', 172)]"
      ]
     },
     "execution_count": 4,
     "metadata": {},
     "output_type": "execute_result"
    }
   ],
   "source": [
    "voos[('CNF', 'GYN')]"
   ]
  },
  {
   "cell_type": "code",
   "execution_count": 5,
   "metadata": {},
   "outputs": [],
   "source": [
    "pessoas = [('Kevin', 'SLZ'),\n",
    "           ('Joao', 'VCP'),\n",
    "           ('Dani', 'POA'),\n",
    "           ('Rafa', 'FOR'),\n",
    "           ('Mari', 'GRU'),\n",
    "           ('Isa', 'GYN')]\n",
    "\n",
    "destino = 'CNF'"
   ]
  },
  {
   "cell_type": "code",
   "execution_count": 6,
   "metadata": {},
   "outputs": [
    {
     "name": "stdout",
     "output_type": "stream",
     "text": [
      "Kevin     : SLZ/CNF - 8:04    10:11   R$ 95    |   CNF/SLZ - 12:08   14:05   R$ 142\n",
      "Joao      : VCP/CNF - 10:30   14:57   R$ 290   |   CNF/VCP - 9:49    13:51   R$ 229\n",
      "Dani      : POA/CNF - 17:08   19:08   R$ 262   |   CNF/POA - 10:32   13:16   R$ 139\n",
      "Rafa      : FOR/CNF - 15:34   18:11   R$ 326   |   CNF/FOR - 11:08   14:38   R$ 262\n",
      "Mari      : GRU/CNF - 9:42    11:32   R$ 169   |   CNF/GRU - 12:08   14:47   R$ 231\n",
      "Isa       : GYN/CNF - 13:37   15:08   R$ 250   |   CNF/GYN - 11:07   13:24   R$ 171\n"
     ]
    }
   ],
   "source": [
    "agenda = [1,4, 3,2, 7,3, 6,3, 2,4, 5,3]\n",
    "imprimir_agenda(pessoas, agenda)"
   ]
  },
  {
   "cell_type": "markdown",
   "metadata": {},
   "source": [
    "## Optimization Functions"
   ]
  },
  {
   "cell_type": "markdown",
   "metadata": {},
   "source": [
    "### 1 - My optimization Function"
   ]
  },
  {
   "cell_type": "code",
   "execution_count": 7,
   "metadata": {},
   "outputs": [
    {
     "data": {
      "text/plain": [
       "30795"
      ]
     },
     "execution_count": 7,
     "metadata": {},
     "output_type": "execute_result"
    }
   ],
   "source": [
    "# Minimize wait time\n",
    "# Minimize ticket prices\n",
    "\n",
    "def fn_loss(solution):\n",
    "    preco_total      = 0 #\n",
    "    ultima_chegada   = 0 # Pessoa que chega mais tarde no aeroporto\n",
    "    primeira_partida = get_minutes('23:59') # Pessoa que vai sair mais cedo\n",
    "\n",
    "    _w_p = 11\n",
    "    _w_t = 1\n",
    "\n",
    "    voos = get_data()\n",
    "\n",
    "    idx_voo = -1\n",
    "\n",
    "    for i in range(len(solution) // 2):\n",
    "        origem = pessoas[i][1]\n",
    "\n",
    "        idx_voo += 1\n",
    "\n",
    "        ida = voos[(origem, destino)][solution[idx_voo]]\n",
    "\n",
    "        idx_voo +=1\n",
    "\n",
    "        volta = voos[(destino, origem)][solution[idx_voo]]\n",
    "\n",
    "        preco_total += ida[2]\n",
    "        preco_total += volta[2]\n",
    "\n",
    "        # Com base nesses valors vamos calcular o tempo que uma\n",
    "        # pessoa fica esperando no aeroporto\n",
    "        if ultima_chegada < get_minutes(ida[1]):\n",
    "            ultima_chegada = get_minutes(ida[1])\n",
    "\n",
    "        if primeira_partida > get_minutes(volta[0]):\n",
    "            primeira_partida = get_minutes(volta[0])\n",
    "\n",
    "\n",
    "    total_espera = 0\n",
    "    idx_voo      = -1\n",
    "\n",
    "    for i in range(len(solution) // 2):\n",
    "        origem = pessoas[i][1]\n",
    "\n",
    "        idx_voo += 1\n",
    "\n",
    "        ida = voos[(origem, destino)][solution[idx_voo]]\n",
    "\n",
    "        idx_voo +=1\n",
    "\n",
    "        volta = voos[(destino, origem)][solution[idx_voo]]\n",
    "\n",
    "        total_espera += ultima_chegada - get_minutes(ida[1])\n",
    "        total_espera += get_minutes(volta[0]) - primeira_partida\n",
    "\n",
    "    # Penalidade\n",
    "    if ultima_chegada > primeira_partida:\n",
    "        preco_total += 50\n",
    "\n",
    "    return (preco_total * _w_p) + (total_espera * _w_t)\n",
    "\n",
    "\n",
    "\n",
    "fn_loss(agenda)\n"
   ]
  },
  {
   "cell_type": "markdown",
   "metadata": {},
   "source": [
    "### **2 - Random Search (Busca Randômica ou Busca Aleatória)**\n",
    "\n",
    "- Pega aleatoriamente algumas soluções possiveis do espaço de busca e faz a comparação com o custo\n",
    "- Para pouquissimos dados pode fornecer resultados de certa forma interessantes\n",
    "- Aquele com menor custo, será a solução final\n",
    "- A Pesquisa Aleatoria é comumente utilizada como Benchmark para outros algoritmos\n",
    "\n",
    "Contras:\n",
    "\n",
    "- Não utiliza as soluçoes boas que foram encontradas\n",
    "- Uma solução com baixo custo é semelhante a outra solução com baixo custo\n",
    "- Pesquisa aleatoria \"salta de um lado para o outro\"\n",
    "- Não armazena o resultado das soluçãoes otimas encontradas anteriormente"
   ]
  },
  {
   "cell_type": "code",
   "execution_count": 8,
   "metadata": {},
   "outputs": [
    {
     "data": {
      "text/plain": [
       "[(0, 9),\n",
       " (0, 9),\n",
       " (0, 9),\n",
       " (0, 9),\n",
       " (0, 9),\n",
       " (0, 9),\n",
       " (0, 9),\n",
       " (0, 9),\n",
       " (0, 9),\n",
       " (0, 9),\n",
       " (0, 9),\n",
       " (0, 9)]"
      ]
     },
     "execution_count": 8,
     "metadata": {},
     "output_type": "execute_result"
    }
   ],
   "source": [
    "# Adaptation of optimization algorithms to problem domains by transfer learning\n",
    "# https://ieeexplore.ieee.org/document/8279737\n",
    "\n",
    "# Dominio são os valores mínimos e máximos permitidos\n",
    "dominio = [(0,9)] * (len(pessoas) * 2)\n",
    "dominio"
   ]
  },
  {
   "cell_type": "code",
   "execution_count": 9,
   "metadata": {},
   "outputs": [
    {
     "data": {
      "text/plain": [
       "[7, 7, 9, 6, 4, 7, 8, 3, 2, 5, 0, 6]"
      ]
     },
     "execution_count": 9,
     "metadata": {},
     "output_type": "execute_result"
    }
   ],
   "source": [
    "_solucao = [random.randint(dominio[i][0], dominio[i][1]) for i in range(len(dominio))]\n",
    "_solucao\n"
   ]
  },
  {
   "cell_type": "code",
   "execution_count": 10,
   "metadata": {},
   "outputs": [],
   "source": [
    "def random_search(dominio, fn_custo):\n",
    "    \n",
    "    _melhor_custo = 9999999999\n",
    "\n",
    "    # 1 - Primeiro eu faço uma busca aleatoria nos voos.\n",
    "    for i in range(10000):\n",
    "        _solucao = [random.randint(dominio[i][0], dominio[i][1]) for i in range(len(dominio))]\n",
    "\n",
    "        # 2 - Após escolher um voo aleatoriamente, tentamos otimizar o custo com a função custo.\n",
    "        _custo =  fn_custo(_solucao)\n",
    "\n",
    "        # 3 - Atualizamos sempre com o melhor custo encontrado e com base no melhor custo pegamos a melhor solução.\n",
    "        if _custo < _melhor_custo:\n",
    "            _melhor_custo = _custo\n",
    "            _melhor_solucao = _solucao\n",
    "\n",
    "\n",
    "    return _melhor_solucao"
   ]
  },
  {
   "cell_type": "code",
   "execution_count": 11,
   "metadata": {},
   "outputs": [
    {
     "name": "stdout",
     "output_type": "stream",
     "text": [
      "12\n",
      "CPU times: total: 4.3 s\n",
      "Wall time: 4.29 s\n"
     ]
    },
    {
     "data": {
      "text/plain": [
       "[9, 6, 0, 3, 5, 5, 9, 4, 5, 3, 4, 3]"
      ]
     },
     "execution_count": 11,
     "metadata": {},
     "output_type": "execute_result"
    }
   ],
   "source": [
    "%%time\n",
    "dominio = [(0,9)] * (len(pessoas) * 2)\n",
    "print(len(dominio))\n",
    "rand_schedule_solution = random_search(dominio, fn_loss)\n",
    "rand_schedule_solution"
   ]
  },
  {
   "cell_type": "code",
   "execution_count": 12,
   "metadata": {},
   "outputs": [
    {
     "data": {
      "text/plain": [
       "23726"
      ]
     },
     "execution_count": 12,
     "metadata": {},
     "output_type": "execute_result"
    }
   ],
   "source": [
    "random_loss =  fn_loss(rand_schedule_solution)\n",
    "random_loss"
   ]
  },
  {
   "cell_type": "code",
   "execution_count": 13,
   "metadata": {},
   "outputs": [
    {
     "name": "stdout",
     "output_type": "stream",
     "text": [
      "Kevin     : SLZ/CNF - 20:17   22:22   R$ 102   |   CNF/SLZ - 15:25   16:58   R$ 62\n",
      "Joao      : VCP/CNF - 6:12    10:22   R$ 230   |   CNF/VCP - 10:51   14:16   R$ 256\n",
      "Dani      : POA/CNF - 13:40   15:38   R$ 137   |   CNF/POA - 13:37   15:33   R$ 142\n",
      "Rafa      : FOR/CNF - 19:53   22:21   R$ 173   |   CNF/FOR - 12:37   15:05   R$ 170\n",
      "Mari      : GRU/CNF - 14:22   16:32   R$ 126   |   CNF/GRU - 10:33   13:11   R$ 132\n",
      "Isa       : GYN/CNF - 12:18   14:56   R$ 172   |   CNF/GYN - 11:07   13:24   R$ 171\n"
     ]
    }
   ],
   "source": [
    "imprimir_agenda(pessoas, rand_schedule_solution)"
   ]
  },
  {
   "cell_type": "markdown",
   "metadata": {},
   "source": [
    "### **2 - Hill Climb (Subida da Enconsta)**\n",
    "\n",
    "- Começa com uma solução aleatoria inicialmente e procura os melhores vizinhos\n",
    "- Caminhar em direção a um ponto com maior inclinação ou menor inclinação (a depender do problema)\n",
    "- Vai rodar ate um ponto que não tem mais para onde descer ou subir (a depender do problema)\n",
    "- Pode ser utilizado para problemas de Maximização ou Minimmização \n",
    "- NÂO é a mesma coisa que o Gradiente Descendente\n",
    "    - A descida do Gradiente Descendente está mais relacionado a calcular as \"direções\" para atualização dos valores\n",
    "\n",
    "https://iaexpert.com.br/index.php/2016/10/25/review-de-livro-programando-a-inteligencia-coletiva/\n",
    "\n",
    "papers originais das buscas\n",
    "\n",
    "https://www.researchgate.net/publication/6026283_Optimization_by_Simulated_Annealing\n",
    "\n",
    "http://www.cs.cornell.edu/selman/papers/pdf/02.encycl-hillclimbing.pdf"
   ]
  },
  {
   "cell_type": "code",
   "execution_count": 18,
   "metadata": {},
   "outputs": [],
   "source": [
    "def hill_climb(dominio, fn_loss):\n",
    "     \n",
    "    _solucao = [random.randint(dominio[i][0], dominio[i][1]) for i in range(len(dominio))]\n",
    "\n",
    "    while True:\n",
    "\n",
    "        _neighbors = []\n",
    "\n",
    "        for i in range(len(dominio)):\n",
    "            \n",
    "            if _solucao[i] > dominio[i][0]:\n",
    "                if _solucao[i] != dominio[i][1]:\n",
    "                    _neighbors.append(_solucao[0:i] + [_solucao[i] + 1] + _solucao[i + 1:])\n",
    "            \n",
    "            if _solucao[i] < dominio[i][1]:\n",
    "                if _solucao[i] != dominio[i][0]:\n",
    "                    _neighbors.append(_solucao[0:i] + [_solucao[i] - 1] + _solucao[i + 1:])\n",
    "\n",
    "        curr = fn_loss(_solucao)\n",
    "        best = curr\n",
    "\n",
    "        for i in range(len(_neighbors[i])):\n",
    "            cost = fn_loss(_neighbors[i])\n",
    "\n",
    "            if cost < best:\n",
    "                best =cost\n",
    "                _solucao = _neighbors[i]\n",
    "        \n",
    "        if best == curr:    \n",
    "            break\n",
    "    \n",
    "    return _solucao"
   ]
  },
  {
   "cell_type": "code",
   "execution_count": 24,
   "metadata": {},
   "outputs": [
    {
     "name": "stdout",
     "output_type": "stream",
     "text": [
      "CPU times: total: 46.9 ms\n",
      "Wall time: 44 ms\n"
     ]
    },
    {
     "data": {
      "text/plain": [
       "25263"
      ]
     },
     "execution_count": 24,
     "metadata": {},
     "output_type": "execute_result"
    }
   ],
   "source": [
    "%%time\n",
    "\n",
    "solution_hill_climb = hill_climb(dominio, fn_loss)\n",
    "hill_climb_cost     = fn_loss(solution_hill_climb)\n",
    "hill_climb_cost"
   ]
  },
  {
   "cell_type": "code",
   "execution_count": 27,
   "metadata": {},
   "outputs": [
    {
     "name": "stdout",
     "output_type": "stream",
     "text": [
      "Kevin     : SLZ/CNF - 8:04    10:11   R$ 95    |   CNF/SLZ - 15:25   16:58   R$ 62\n",
      "Joao      : VCP/CNF - 13:54   18:02   R$ 294   |   CNF/VCP - 9:49    13:51   R$ 229\n",
      "Dani      : POA/CNF - 20:30   23:11   R$ 114   |   CNF/POA - 6:58    9:01    R$ 238\n",
      "Rafa      : FOR/CNF - 18:23   21:35   R$ 134   |   CNF/FOR - 20:27   23:42   R$ 169\n",
      "Mari      : GRU/CNF - 14:22   16:32   R$ 126   |   CNF/GRU - 17:06   20:00   R$ 95\n",
      "Isa       : GYN/CNF - 9:15    12:03   R$ 99    |   CNF/GYN - 16:35   18:56   R$ 144\n"
     ]
    }
   ],
   "source": [
    "imprimir_agenda(pessoas, solution_hill_climb)"
   ]
  },
  {
   "cell_type": "markdown",
   "metadata": {},
   "source": [
    "- Outros algoritmos: PSO e o Colônia de Formigas"
   ]
  },
  {
   "cell_type": "markdown",
   "metadata": {},
   "source": []
  }
 ],
 "metadata": {
  "kernelspec": {
   "display_name": "Python 3.9.13 64-bit",
   "language": "python",
   "name": "python3"
  },
  "language_info": {
   "codemirror_mode": {
    "name": "ipython",
    "version": 3
   },
   "file_extension": ".py",
   "mimetype": "text/x-python",
   "name": "python",
   "nbconvert_exporter": "python",
   "pygments_lexer": "ipython3",
   "version": "3.9.13"
  },
  "orig_nbformat": 4,
  "vscode": {
   "interpreter": {
    "hash": "2d68b850c1e44636299f7e61dc6aa70db902e52e02add8943b9abe2930f658cf"
   }
  }
 },
 "nbformat": 4,
 "nbformat_minor": 2
}
